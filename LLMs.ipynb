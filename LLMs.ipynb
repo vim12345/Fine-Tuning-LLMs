{
  "nbformat": 4,
  "nbformat_minor": 0,
  "metadata": {
    "colab": {
      "provenance": []
    },
    "kernelspec": {
      "name": "python3",
      "display_name": "Python 3"
    },
    "language_info": {
      "name": "python"
    }
  },
  "cells": [
    {
      "cell_type": "markdown",
      "source": [
        "# Step 1: Installation and Initial Setup"
      ],
      "metadata": {
        "id": "RGEcWgUr8cym"
      }
    },
    {
      "cell_type": "code",
      "execution_count": 1,
      "metadata": {
        "colab": {
          "base_uri": "https://localhost:8080/"
        },
        "id": "l5-C_qMC8bHl",
        "outputId": "81d4c437-4a51-4aba-a00b-f2a484f78e23"
      },
      "outputs": [
        {
          "output_type": "stream",
          "name": "stdout",
          "text": [
            "Requirement already satisfied: transformers in /usr/local/lib/python3.11/dist-packages (4.52.4)\n",
            "Requirement already satisfied: datasets in /usr/local/lib/python3.11/dist-packages (2.14.4)\n",
            "Requirement already satisfied: filelock in /usr/local/lib/python3.11/dist-packages (from transformers) (3.18.0)\n",
            "Requirement already satisfied: huggingface-hub<1.0,>=0.30.0 in /usr/local/lib/python3.11/dist-packages (from transformers) (0.33.0)\n",
            "Requirement already satisfied: numpy>=1.17 in /usr/local/lib/python3.11/dist-packages (from transformers) (2.0.2)\n",
            "Requirement already satisfied: packaging>=20.0 in /usr/local/lib/python3.11/dist-packages (from transformers) (24.2)\n",
            "Requirement already satisfied: pyyaml>=5.1 in /usr/local/lib/python3.11/dist-packages (from transformers) (6.0.2)\n",
            "Requirement already satisfied: regex!=2019.12.17 in /usr/local/lib/python3.11/dist-packages (from transformers) (2024.11.6)\n",
            "Requirement already satisfied: requests in /usr/local/lib/python3.11/dist-packages (from transformers) (2.32.3)\n",
            "Requirement already satisfied: tokenizers<0.22,>=0.21 in /usr/local/lib/python3.11/dist-packages (from transformers) (0.21.1)\n",
            "Requirement already satisfied: safetensors>=0.4.3 in /usr/local/lib/python3.11/dist-packages (from transformers) (0.5.3)\n",
            "Requirement already satisfied: tqdm>=4.27 in /usr/local/lib/python3.11/dist-packages (from transformers) (4.67.1)\n",
            "Requirement already satisfied: pyarrow>=8.0.0 in /usr/local/lib/python3.11/dist-packages (from datasets) (18.1.0)\n",
            "Requirement already satisfied: dill<0.3.8,>=0.3.0 in /usr/local/lib/python3.11/dist-packages (from datasets) (0.3.7)\n",
            "Requirement already satisfied: pandas in /usr/local/lib/python3.11/dist-packages (from datasets) (2.2.2)\n",
            "Requirement already satisfied: xxhash in /usr/local/lib/python3.11/dist-packages (from datasets) (3.5.0)\n",
            "Requirement already satisfied: multiprocess in /usr/local/lib/python3.11/dist-packages (from datasets) (0.70.15)\n",
            "Requirement already satisfied: fsspec>=2021.11.1 in /usr/local/lib/python3.11/dist-packages (from fsspec[http]>=2021.11.1->datasets) (2025.5.1)\n",
            "Requirement already satisfied: aiohttp in /usr/local/lib/python3.11/dist-packages (from datasets) (3.11.15)\n",
            "Requirement already satisfied: aiohappyeyeballs>=2.3.0 in /usr/local/lib/python3.11/dist-packages (from aiohttp->datasets) (2.6.1)\n",
            "Requirement already satisfied: aiosignal>=1.1.2 in /usr/local/lib/python3.11/dist-packages (from aiohttp->datasets) (1.3.2)\n",
            "Requirement already satisfied: attrs>=17.3.0 in /usr/local/lib/python3.11/dist-packages (from aiohttp->datasets) (25.3.0)\n",
            "Requirement already satisfied: frozenlist>=1.1.1 in /usr/local/lib/python3.11/dist-packages (from aiohttp->datasets) (1.7.0)\n",
            "Requirement already satisfied: multidict<7.0,>=4.5 in /usr/local/lib/python3.11/dist-packages (from aiohttp->datasets) (6.4.4)\n",
            "Requirement already satisfied: propcache>=0.2.0 in /usr/local/lib/python3.11/dist-packages (from aiohttp->datasets) (0.3.2)\n",
            "Requirement already satisfied: yarl<2.0,>=1.17.0 in /usr/local/lib/python3.11/dist-packages (from aiohttp->datasets) (1.20.1)\n",
            "Requirement already satisfied: typing-extensions>=3.7.4.3 in /usr/local/lib/python3.11/dist-packages (from huggingface-hub<1.0,>=0.30.0->transformers) (4.14.0)\n",
            "Requirement already satisfied: hf-xet<2.0.0,>=1.1.2 in /usr/local/lib/python3.11/dist-packages (from huggingface-hub<1.0,>=0.30.0->transformers) (1.1.3)\n",
            "Requirement already satisfied: charset-normalizer<4,>=2 in /usr/local/lib/python3.11/dist-packages (from requests->transformers) (3.4.2)\n",
            "Requirement already satisfied: idna<4,>=2.5 in /usr/local/lib/python3.11/dist-packages (from requests->transformers) (3.10)\n",
            "Requirement already satisfied: urllib3<3,>=1.21.1 in /usr/local/lib/python3.11/dist-packages (from requests->transformers) (2.4.0)\n",
            "Requirement already satisfied: certifi>=2017.4.17 in /usr/local/lib/python3.11/dist-packages (from requests->transformers) (2025.6.15)\n",
            "Requirement already satisfied: python-dateutil>=2.8.2 in /usr/local/lib/python3.11/dist-packages (from pandas->datasets) (2.9.0.post0)\n",
            "Requirement already satisfied: pytz>=2020.1 in /usr/local/lib/python3.11/dist-packages (from pandas->datasets) (2025.2)\n",
            "Requirement already satisfied: tzdata>=2022.7 in /usr/local/lib/python3.11/dist-packages (from pandas->datasets) (2025.2)\n",
            "Requirement already satisfied: six>=1.5 in /usr/local/lib/python3.11/dist-packages (from python-dateutil>=2.8.2->pandas->datasets) (1.17.0)\n"
          ]
        }
      ],
      "source": [
        "!pip install transformers datasets"
      ]
    },
    {
      "cell_type": "markdown",
      "source": [
        "The transformers library, provided by Hugging Face, contains pre-trained models and tools for building and fine-tuning various Natural Language Processing (NLP) models. The datasets library is used to load popular datasets conveniently, which makes it easy to prepare data for training and fine-tuning models. Run this installation command at the beginning to set up these libraries.\n",
        "\n"
      ],
      "metadata": {
        "id": "hqIBCNzY9fbH"
      }
    },
    {
      "cell_type": "markdown",
      "source": [
        "# Step 2: Loading and Sampling the Dataset\n",
        "Load a dataset suitable for fine-tuning:\n",
        "\n"
      ],
      "metadata": {
        "id": "z0yFRgDp9lyu"
      }
    },
    {
      "cell_type": "code",
      "source": [
        "!pip install --upgrade fsspec\n",
        "\n",
        "from datasets import load_dataset\n",
        "\n",
        "# load IMDb dataset and take a small sample\n",
        "dataset = load_dataset(\"imdb\", split=\"train[:1%]\")\n",
        "print(dataset[0])"
      ],
      "metadata": {
        "id": "D7wQ8I7u9ey4"
      },
      "execution_count": null,
      "outputs": []
    },
    {
      "cell_type": "markdown",
      "source": [
        "Here, we load the IMDb movie reviews dataset, often used in NLP tasks for sentiment analysis. By specifying train[:1%], we only load 1% of the training set, which is beneficial for quick experimentation and avoids using excessive computational resources. The print(dataset[0]) command checks that the data is loaded correctly.\n",
        "\n"
      ],
      "metadata": {
        "id": "uwT-3NqH910q"
      }
    },
    {
      "cell_type": "markdown",
      "source": [
        "# Step 3: Data Preprocessing\n"
      ],
      "metadata": {
        "id": "cqRKdNL192-I"
      }
    },
    {
      "cell_type": "code",
      "source": [
        "def preprocess(batch):\n",
        "    batch['text'] = [text.replace('\\n', ' ') for text in batch['text']]\n",
        "    return batch\n",
        "\n",
        "# apply preprocessing to the dataset\n",
        "dataset = dataset.map(preprocess, batched=True)"
      ],
      "metadata": {
        "id": "mqbffZLr9dkC"
      },
      "execution_count": null,
      "outputs": []
    },
    {
      "cell_type": "markdown",
      "source": [
        "In this function, we replaced newline characters in each review with spaces. This step is crucial because some models may not handle newline characters well, especially if trained for single-line inputs. dataset.map(preprocess, batched=True) applies this preprocessing function to the entire dataset, batch by batch, which improves efficiency.\n",
        "\n"
      ],
      "metadata": {
        "id": "ILCx8JLe98h_"
      }
    },
    {
      "cell_type": "markdown",
      "source": [
        "# Step 4: Initializing the Model and Tokenizer\n",
        "Load a pre-trained model and tokenizer for fine-tuning:"
      ],
      "metadata": {
        "id": "sA3Th2A399kX"
      }
    },
    {
      "cell_type": "code",
      "source": [
        "from transformers import AutoTokenizer, AutoModelForCausalLM\n",
        "\n",
        "model_name = \"distilgpt2\"\n",
        "tokenizer = AutoTokenizer.from_pretrained(model_name)\n",
        "model = AutoModelForCausalLM.from_pretrained(model_name)\n",
        "\n",
        "tokenizer.pad_token = tokenizer.eos_token"
      ],
      "metadata": {
        "id": "RhqXw-Js-AXw"
      },
      "execution_count": null,
      "outputs": []
    },
    {
      "cell_type": "markdown",
      "source": [
        "Here, we loaded distilgpt2, a lightweight version of GPT-2, which is suitable for causal language modelling tasks. AutoTokenizer and AutoModelForCausalLM automatically download and set up the tokenizer and model architecture for the specified model. Setting the pad_token to eos_token ensures consistent padding in sequences, which is necessary for batch processing.\n",
        "\n"
      ],
      "metadata": {
        "id": "54RjAnE_-DZC"
      }
    },
    {
      "cell_type": "markdown",
      "source": [
        "# Step 5: Tokenizing the Data\n",
        "Convert text into tokens the model can understand:"
      ],
      "metadata": {
        "id": "5Gs5mEFl-Djo"
      }
    },
    {
      "cell_type": "code",
      "source": [
        "def tokenize_function(examples):\n",
        "    tokenized = tokenizer(examples['text'], padding=\"max_length\", truncation=True, max_length=128)\n",
        "    tokenized['labels'] = tokenized['input_ids'].copy()  # set labels to be the same as input_ids\n",
        "    return tokenized\n",
        "\n",
        "tokenized_data = dataset.map(tokenize_function, batched=True)"
      ],
      "metadata": {
        "id": "7PcE1GHP-JEw"
      },
      "execution_count": null,
      "outputs": []
    },
    {
      "cell_type": "markdown",
      "source": [
        "This function tokenizes each text input by converting it into integer IDs that the model can process. Using padding= “max_length” and truncation=True; ensures each tokenized sequence has a fixed length of 128, which avoids model memory overflow. Setting labels as a copy of input_ids prepares the dataset for language modelling by ensuring the model learns to predict the next word in a sequence.\n",
        "\n"
      ],
      "metadata": {
        "id": "RDO5XA9H-Mbs"
      }
    },
    {
      "cell_type": "markdown",
      "source": [
        "# Step 6: Configuring Training Parameters\n",
        "The next step in the fine-tuning process is to set up hyperparameters for model training:"
      ],
      "metadata": {
        "id": "JzOGxnvG-NGW"
      }
    },
    {
      "cell_type": "code",
      "source": [
        "from transformers import TrainingArguments\n",
        "\n",
        "training_args = TrainingArguments(\n",
        "    output_dir=\"./results\",\n",
        "    evaluation_strategy=\"epoch\",\n",
        "    per_device_train_batch_size=4,\n",
        "    per_device_eval_batch_size=4,\n",
        "    num_train_epochs=1,\n",
        "    logging_dir='./logs',\n",
        "    logging_steps=10,\n",
        "    save_total_limit=1\n",
        ")"
      ],
      "metadata": {
        "id": "Yk53hl8s-PX-"
      },
      "execution_count": null,
      "outputs": []
    },
    {
      "cell_type": "markdown",
      "source": [
        "The TrainingArguments class is used to define the hyperparameters and settings for training. Key parameters include:\n",
        "\n",
        "* output_dir: Directory to save model checkpoints.\n",
        "* evaluation_strategy= “epoch”: Evaluate the model at the end of each epoch.\n",
        "* per_device_train_batch_size and per_device_eval_batch_size: Number of samples processed per device in each batch during training and evaluation, respectively.\n",
        "* num_train_epochs=1: Train the model for a single epoch.\n",
        "* logging_steps: How often to log training information.\n",
        "* save_total_limit=1: Limits the saved checkpoints to avoid storage overload."
      ],
      "metadata": {
        "id": "mxyEbkO8-R4c"
      }
    },
    {
      "cell_type": "markdown",
      "source": [
        "# Step 7: Splitting the Dataset\n",
        "Now, divide the dataset into training and evaluation sets:"
      ],
      "metadata": {
        "id": "fQBrYkfp-R75"
      }
    },
    {
      "cell_type": "code",
      "source": [
        "train_data = tokenized_data.shuffle().select(range(int(0.8 * len(tokenized_data))))\n",
        "eval_data = tokenized_data.shuffle().select(range(int(0.8 * len(tokenized_data)), len(tokenized_data)))"
      ],
      "metadata": {
        "id": "xtyRutmy-i7T"
      },
      "execution_count": null,
      "outputs": []
    },
    {
      "cell_type": "markdown",
      "source": [
        "Here, we randomly shuffle the dataset and then split it into 80% training data and 20% evaluation data. This ensures that the model has enough data to learn from and also allows for a validation set to assess the model’s performance.\n",
        "\n"
      ],
      "metadata": {
        "id": "dvWvGiF3-nVu"
      }
    },
    {
      "cell_type": "markdown",
      "source": [
        "# Step 8: Setting Up the Trainer & Fine-Tuning the Model\n",
        "Now, the next step in the process of fine-tuning LLMs is to initialize and configure the training process for fine-tuning:"
      ],
      "metadata": {
        "id": "l-mX6DWg-ns6"
      }
    },
    {
      "cell_type": "code",
      "source": [
        "from transformers import Trainer\n",
        "trainer = Trainer(\n",
        "    model=model,\n",
        "    args=training_args,\n",
        "    train_dataset=train_data,\n",
        "    eval_dataset=eval_data\n",
        ")"
      ],
      "metadata": {
        "id": "R1FXRYfa-qEK"
      },
      "execution_count": null,
      "outputs": []
    },
    {
      "cell_type": "markdown",
      "source": [
        "The Trainer class in transformers simplifies the training process by automating tasks like gradient updates and model evaluation. It uses training_args for hyperparameters and takes the train_data and eval_data datasets to structure the training and validation process.\n",
        "\n",
        "\n",
        "Now, this is the fine-tuning step. Start training the model on the custom dataset:"
      ],
      "metadata": {
        "id": "ppSjogtP-s7D"
      }
    },
    {
      "cell_type": "code",
      "source": [
        "trainer.train()"
      ],
      "metadata": {
        "id": "-Fl590tn-vBj"
      },
      "execution_count": null,
      "outputs": []
    },
    {
      "cell_type": "markdown",
      "source": [
        "This command initiates the fine-tuning process. The train() function performs multiple forward and backward passes through the data, which updates the model’s weights to minimize prediction errors based on the IMDb dataset. Fine-tuning will allow the pre-trained distilgpt2 model to adjust to the specific language and style of movie reviews."
      ],
      "metadata": {
        "id": "K2SZ5tOp-xpy"
      }
    },
    {
      "cell_type": "markdown",
      "source": [
        "# Step 9: Save & Test the Fine-tuned Model\n",
        "Save the model and tokenizer for future use:"
      ],
      "metadata": {
        "id": "FsaMHX7Y-zZj"
      }
    },
    {
      "cell_type": "code",
      "source": [
        "model.save_pretrained(\"./fine_tuned_model\")\n",
        "tokenizer.save_pretrained(\"./fine_tuned_model\")"
      ],
      "metadata": {
        "id": "r5E7QkGY-0mp"
      },
      "execution_count": null,
      "outputs": []
    },
    {
      "cell_type": "markdown",
      "source": [
        "Once training is completed, saving the model ensures that the fine-tuned parameters can be reused without re-running the entire process. The save_pretrained function saves both the model weights and the tokenizer configuration to a directory.\n",
        "\n",
        "Now, let’s generate text based on a prompt to evaluate the model:"
      ],
      "metadata": {
        "id": "0nkgl8DL-3zR"
      }
    },
    {
      "cell_type": "code",
      "source": [
        "prompt = \"The script\"\n",
        "inputs = tokenizer(prompt, return_tensors=\"pt\")\n",
        "\n",
        "output = model.generate(inputs['input_ids'], max_length=15)\n",
        "print(tokenizer.decode(output[0], skip_special_tokens=True))"
      ],
      "metadata": {
        "id": "FvM76Wky-4kM"
      },
      "execution_count": null,
      "outputs": []
    },
    {
      "cell_type": "markdown",
      "source": [
        "In this final section, we provide a sample prompt (“The script”) to test the model’s generative capabilities. The generate() function creates a new text sequence by sampling from the model’s learned distribution. By decoding and printing the output, you can observe how well the fine-tuned model generates text that aligns with the IMDb dataset."
      ],
      "metadata": {
        "id": "5j6yp22D-8u8"
      }
    }
  ]
}